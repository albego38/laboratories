{
 "cells": [
  {
   "cell_type": "markdown",
   "metadata": {
    "application/vnd.databricks.v1+cell": {
     "cellMetadata": {},
     "inputWidgets": {},
     "nuid": "6575078f-ba9f-4792-99d1-703b6e7f1aa0",
     "showTitle": false,
     "tableResultSettingsMap": {},
     "title": ""
    }
   },
   "source": [
    "##Variables"
   ]
  },
  {
   "cell_type": "code",
   "execution_count": 0,
   "metadata": {
    "application/vnd.databricks.v1+cell": {
     "cellMetadata": {
      "byteLimit": 2048000,
      "rowLimit": 10000
     },
     "inputWidgets": {},
     "nuid": "a43c75e9-656b-4735-ad02-7b315c9c56fe",
     "showTitle": false,
     "tableResultSettingsMap": {},
     "title": ""
    }
   },
   "outputs": [],
   "source": [
    "# Widgets\n",
    "dbutils.widgets.text(\"storage_account_name\", \"SUSTITUIR\", \"Cuenta de almacenamiento\")\n",
    "dbutils.widgets.text(\"storage_account_key\", \"SUSTITUIR\", \"Clave de la cuenta\")\n",
    "dbutils.widgets.text(\"container_name\", \"datalake\", \"Nombre del contenedor\")\n",
    "dbutils.widgets.text(\"file_path\", \"bronze/transactions.csv\", \"Ruta del archivo en bronze\")"
   ]
  },
  {
   "cell_type": "code",
   "execution_count": 0,
   "metadata": {
    "application/vnd.databricks.v1+cell": {
     "cellMetadata": {},
     "inputWidgets": {},
     "nuid": "bf58f2d9-1cd8-44ac-946d-ebbb94499662",
     "showTitle": false,
     "tableResultSettingsMap": {},
     "title": ""
    }
   },
   "outputs": [],
   "source": [
    "# Leer la clave secreta desde un Azure Key Vault Scope\n",
    "# storage_account_key = dbutils.secrets.get(scope=\"my_scope\", key=\"storage_account_key\")"
   ]
  },
  {
   "cell_type": "code",
   "execution_count": 0,
   "metadata": {
    "application/vnd.databricks.v1+cell": {
     "cellMetadata": {
      "byteLimit": 2048000,
      "rowLimit": 10000
     },
     "inputWidgets": {},
     "nuid": "b440688e-1ed9-4ea2-a74b-1d189f0aa51a",
     "showTitle": false,
     "tableResultSettingsMap": {},
     "title": ""
    }
   },
   "outputs": [],
   "source": [
    "# Obtener los valores de los widgets\n",
    "storage_account_name = dbutils.widgets.get(\"storage_account_name\")\n",
    "storage_account_key = dbutils.widgets.get(\"storage_account_key\")\n",
    "container_name = dbutils.widgets.get(\"container_name\")\n",
    "file_path = dbutils.widgets.get(\"file_path\")"
   ]
  },
  {
   "cell_type": "markdown",
   "metadata": {
    "application/vnd.databricks.v1+cell": {
     "cellMetadata": {},
     "inputWidgets": {},
     "nuid": "f8646512-5f66-4358-9af8-a211b8b33047",
     "showTitle": false,
     "tableResultSettingsMap": {},
     "title": ""
    }
   },
   "source": [
    "##Leer los datos en RAW (**Bronze**)"
   ]
  },
  {
   "cell_type": "code",
   "execution_count": 0,
   "metadata": {
    "application/vnd.databricks.v1+cell": {
     "cellMetadata": {
      "byteLimit": 2048000,
      "rowLimit": 10000
     },
     "inputWidgets": {},
     "nuid": "82a89de3-5b0a-462e-be50-2c0d79acdffc",
     "showTitle": false,
     "tableResultSettingsMap": {},
     "title": ""
    }
   },
   "outputs": [],
   "source": [
    "# Establecer la clave de la cuenta de almacenamiento en la configuración de Spark\n",
    "spark.conf.set(f\"fs.azure.account.key.{storage_account_name}.dfs.core.windows.net\", storage_account_key)\n",
    "\n",
    "# Leer el archivo CSV desde el Data Lake con inferencia de esquema y separador ;\n",
    "df = spark.read.format(\"csv\").option(\"header\", \"true\").option(\"inferSchema\", \"true\").option(\"sep\", \";\").load(f\"abfss://{container_name}@{storage_account_name}.dfs.core.windows.net/{file_path}\")\n",
    "\n",
    "# Mostrar el esquema del DataFrame\n",
    "df.printSchema()\n",
    "\n",
    "# Mostrar el DataFrame\n",
    "display(df)"
   ]
  },
  {
   "cell_type": "markdown",
   "metadata": {
    "application/vnd.databricks.v1+cell": {
     "cellMetadata": {},
     "inputWidgets": {},
     "nuid": "75923f86-aea7-4a4a-998b-cb8f859fdbc7",
     "showTitle": false,
     "tableResultSettingsMap": {},
     "title": ""
    }
   },
   "source": [
    "# Escribir los datos en formato Delta (Silver)"
   ]
  },
  {
   "cell_type": "code",
   "execution_count": 0,
   "metadata": {
    "application/vnd.databricks.v1+cell": {
     "cellMetadata": {
      "byteLimit": 2048000,
      "rowLimit": 10000
     },
     "inputWidgets": {},
     "nuid": "9455f138-1b0e-4488-b80a-4f25bd247566",
     "showTitle": false,
     "tableResultSettingsMap": {},
     "title": ""
    }
   },
   "outputs": [],
   "source": [
    "from pyspark.sql.functions import current_date\n",
    "\n",
    "# Agregar la columna load_date\n",
    "df_with_date = df.withColumn(\"load_date\", current_date())\n",
    "\n",
    "# Escribir el DataFrame en formato Delta en el Data Lake, particionado por load_date\n",
    "df_with_date.write.format(\"delta\").mode(\"overwrite\").option(\"overwriteSchema\", \"true\").partitionBy(\"load_date\").save(f\"abfss://{container_name}@{storage_account_name}.dfs.core.windows.net/silver/h_transactions\")"
   ]
  },
  {
   "cell_type": "markdown",
   "metadata": {
    "application/vnd.databricks.v1+cell": {
     "cellMetadata": {},
     "inputWidgets": {},
     "nuid": "a982da1e-f7b6-46db-a1b7-80122e91c69e",
     "showTitle": false,
     "tableResultSettingsMap": {},
     "title": ""
    }
   },
   "source": [
    "# Generar tabla h_transactions en Unity"
   ]
  },
  {
   "cell_type": "code",
   "execution_count": 0,
   "metadata": {
    "application/vnd.databricks.v1+cell": {
     "cellMetadata": {
      "byteLimit": 2048000,
      "rowLimit": 10000
     },
     "inputWidgets": {},
     "nuid": "5df322f2-ad75-4863-9db3-7d3b02031d53",
     "showTitle": false,
     "tableResultSettingsMap": {},
     "title": ""
    }
   },
   "outputs": [],
   "source": [
    "# Crear el esquema si no existe\n",
    "spark.sql(\"CREATE SCHEMA IF NOT EXISTS silver\")\n",
    "\n",
    "# Crear la tabla externa en Unity Catalog\n",
    "spark.sql(f\"\"\"\n",
    "CREATE TABLE IF NOT EXISTS silver.h_transactions\n",
    "USING DELTA\n",
    "LOCATION 'abfss://{container_name}@{storage_account_name}.dfs.core.windows.net/silver/h_transactions'\"\"\")"
   ]
  }
 ],
 "metadata": {
  "application/vnd.databricks.v1+notebook": {
   "computePreferences": null,
   "dashboards": [],
   "environmentMetadata": {
    "base_environment": "",
    "environment_version": "2"
   },
   "inputWidgetPreferences": null,
   "language": "python",
   "notebookMetadata": {
    "pythonIndentUnit": 4
   },
   "notebookName": "01. BronzeToSilverEngine",
   "widgets": {
    "container_name": {
     "currentValue": "datalake",
     "nuid": "5114af98-5850-418e-b9fc-18f63f7b249a",
     "typedWidgetInfo": {
      "autoCreated": false,
      "defaultValue": "datalake",
      "label": "Nombre del contenedor",
      "name": "container_name",
      "options": {
       "widgetDisplayType": "Text",
       "validationRegex": null
      },
      "parameterDataType": "String"
     },
     "widgetInfo": {
      "widgetType": "text",
      "defaultValue": "datalake",
      "label": "Nombre del contenedor",
      "name": "container_name",
      "options": {
       "widgetType": "text",
       "autoCreated": null,
       "validationRegex": null
      }
     }
    },
    "file_path": {
     "currentValue": "bronze/transactions.csv",
     "nuid": "e7899ee9-7f46-426b-95e1-4cd888437c34",
     "typedWidgetInfo": {
      "autoCreated": false,
      "defaultValue": "bronze/transactions.csv",
      "label": "Ruta del archivo en bronze",
      "name": "file_path",
      "options": {
       "widgetDisplayType": "Text",
       "validationRegex": null
      },
      "parameterDataType": "String"
     },
     "widgetInfo": {
      "widgetType": "text",
      "defaultValue": "bronze/transactions.csv",
      "label": "Ruta del archivo en bronze",
      "name": "file_path",
      "options": {
       "widgetType": "text",
       "autoCreated": null,
       "validationRegex": null
      }
     }
    },
    "storage_account_key": {
     "currentValue": "SUSTITUIR",
     "nuid": "aafe4e5f-421e-4888-bb6d-74e25fb390b7",
     "typedWidgetInfo": {
      "autoCreated": false,
      "defaultValue": "SUSTITUIR",
      "label": "Clave de la cuenta",
      "name": "storage_account_key",
      "options": {
       "widgetDisplayType": "Text",
       "validationRegex": null
      },
      "parameterDataType": "String"
     },
     "widgetInfo": {
      "widgetType": "text",
      "defaultValue": "SUSTITUIR",
      "label": "Clave de la cuenta",
      "name": "storage_account_key",
      "options": {
       "widgetType": "text",
       "autoCreated": null,
       "validationRegex": null
      }
     }
    },
    "storage_account_name": {
     "currentValue": "SUSTITUIR",
     "nuid": "34b37c7f-4783-4cef-b440-a8de9e45974b",
     "typedWidgetInfo": {
      "autoCreated": false,
      "defaultValue": "SUSTITUIR",
      "label": "Cuenta de almacenamiento",
      "name": "storage_account_name",
      "options": {
       "widgetDisplayType": "Text",
       "validationRegex": null
      },
      "parameterDataType": "String"
     },
     "widgetInfo": {
      "widgetType": "text",
      "defaultValue": "SUSTITUIR",
      "label": "Cuenta de almacenamiento",
      "name": "storage_account_name",
      "options": {
       "widgetType": "text",
       "autoCreated": null,
       "validationRegex": null
      }
     }
    }
   }
  },
  "language_info": {
   "name": "python"
  }
 },
 "nbformat": 4,
 "nbformat_minor": 0
}
