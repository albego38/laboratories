{
 "cells": [
  {
   "cell_type": "markdown",
   "metadata": {
    "application/vnd.databricks.v1+cell": {
     "cellMetadata": {},
     "inputWidgets": {},
     "nuid": "b6323fe6-7192-4d27-a41b-a59d374652b8",
     "showTitle": false,
     "tableResultSettingsMap": {},
     "title": ""
    }
   },
   "source": [
    "## Widgets"
   ]
  },
  {
   "cell_type": "code",
   "execution_count": 0,
   "metadata": {
    "application/vnd.databricks.v1+cell": {
     "cellMetadata": {
      "byteLimit": 2048000,
      "rowLimit": 10000
     },
     "inputWidgets": {},
     "nuid": "eba08412-1264-4c1a-ad3f-02d7144e2be9",
     "showTitle": false,
     "tableResultSettingsMap": {},
     "title": ""
    }
   },
   "outputs": [],
   "source": [
    "dbutils.widgets.text(\"input_path\", \"abfss://datalake@dlsmde01user.dfs.core.windows.net/bronze/\", \"Input Path\")"
   ]
  },
  {
   "cell_type": "markdown",
   "metadata": {
    "application/vnd.databricks.v1+cell": {
     "cellMetadata": {},
     "inputWidgets": {},
     "nuid": "bb562796-9d35-4c6e-8dc9-0471808e3600",
     "showTitle": false,
     "tableResultSettingsMap": {},
     "title": ""
    }
   },
   "source": [
    "## 🧱 DLT Table: `transactions_bronze`\n",
    "Esta tabla crea una capa **bronze** en el flujo de procesamiento de datos usando **Delta Live Tables (DLT)** con PySpark."
   ]
  },
  {
   "cell_type": "code",
   "execution_count": 0,
   "metadata": {
    "application/vnd.databricks.v1+cell": {
     "cellMetadata": {
      "byteLimit": 2048000,
      "implicitDf": true,
      "rowLimit": 10000
     },
     "inputWidgets": {},
     "nuid": "3cf07920-1c74-4151-8cb5-a3aebbe15080",
     "showTitle": false,
     "tableResultSettingsMap": {},
     "title": ""
    }
   },
   "outputs": [],
   "source": [
    "import dlt\n",
    "from pyspark.sql.functions import *\n",
    "\n",
    "@dlt.table(\n",
    "  name=\"transactions_bronze\",\n",
    "  comment=\"Datos crudos de transacciones desde ADLS Gen2 usando Auto Loader\",\n",
    ")\n",
    "def transactions_bronze():\n",
    "    # Lee datos en tiempo real desde un almacenamiento en formato CSV\n",
    "    return (\n",
    "        spark.readStream.format(\"cloudFiles\")\n",
    "        .option(\"cloudFiles.format\", \"csv\")  # Especifica el formato de archivo como CSV\n",
    "        .option(\"cloudFiles.inferColumnTypes\", \"true\")  # Inferir tipos de columna automáticamente\n",
    "        .load(dbutils.widgets.get(\"input_path\"))  # Carga los datos desde la ruta especificada en el widget\n",
    "    )"
   ]
  },
  {
   "cell_type": "markdown",
   "metadata": {
    "application/vnd.databricks.v1+cell": {
     "cellMetadata": {},
     "inputWidgets": {},
     "nuid": "46e1e05d-dc91-4168-8056-8b5c7f57a06f",
     "showTitle": false,
     "tableResultSettingsMap": {},
     "title": ""
    }
   },
   "source": [
    "## 🧪DLT Table: `transactions_silver`\n",
    "\n",
    "Esta tabla representa la **capa silver** del pipeline de datos, en la cual se aplican **validaciones y transformaciones** a los datos crudos de transacciones previamente ingestados en la capa bronze.\n",
    "\n",
    "### 📌 Descripción\n",
    "`transactions_silver` limpia y transforma los datos de la tabla `transactions_bronze` para asegurar su calidad y prepararlos para análisis más avanzados o para construir la capa gold."
   ]
  },
  {
   "cell_type": "code",
   "execution_count": 0,
   "metadata": {
    "application/vnd.databricks.v1+cell": {
     "cellMetadata": {
      "byteLimit": 2048000,
      "rowLimit": 10000
     },
     "inputWidgets": {},
     "nuid": "5b8061c9-4571-4e77-8cf6-1578c8d8dc22",
     "showTitle": false,
     "tableResultSettingsMap": {},
     "title": ""
    }
   },
   "outputs": [],
   "source": [
    "@dlt.table(\n",
    "  name=\"transactions_silver\",\n",
    "  comment=\"Datos de transacciones validados y transformados\"\n",
    ")\n",
    "def transactions_silver():\n",
    "    df = dlt.read_stream(\"transactions_bronze\")\n",
    "    return (\n",
    "        df.filter(\"transactionId IS NOT NULL AND amount IS NOT NULL\")\n",
    "        .withColumn(\"amount\", col(\"amount\").cast(\"double\"))\n",
    "        .withColumn(\"timestamp\", to_timestamp(\"timestamp\"))\n",
    "        .withColumn(\"transactionType\", upper(col(\"transactionType\")))\n",
    "    )"
   ]
  },
  {
   "cell_type": "markdown",
   "metadata": {
    "application/vnd.databricks.v1+cell": {
     "cellMetadata": {},
     "inputWidgets": {},
     "nuid": "8b9fee81-1d2f-4ab8-99a5-31a196f52db2",
     "showTitle": false,
     "tableResultSettingsMap": {},
     "title": ""
    }
   },
   "source": [
    "## 🏆 DLT Table: `transactions_gold`\n",
    "\n",
    "Esta tabla corresponde a la **capa gold** dentro del pipeline de datos, donde se generan **agregaciones finales listas para el análisis de negocio o consumo por dashboards**.\n",
    "\n",
    "### 📊 Métricas generadas\n",
    "`transactions_gold` calcula el **importe total de transacciones** agrupado por categoría de comercio (`merchantCategory`), lo que permite identificar el volumen de transacciones por sector comercial."
   ]
  },
  {
   "cell_type": "code",
   "execution_count": 0,
   "metadata": {
    "application/vnd.databricks.v1+cell": {
     "cellMetadata": {
      "byteLimit": 2048000,
      "rowLimit": 10000
     },
     "inputWidgets": {},
     "nuid": "c8911c12-32da-451e-b88c-ef84859bb154",
     "showTitle": false,
     "tableResultSettingsMap": {},
     "title": ""
    }
   },
   "outputs": [],
   "source": [
    "from pyspark.sql.functions import sum, round\n",
    "\n",
    "@dlt.table(\n",
    "  name=\"transactions_gold\",\n",
    "  comment=\"Total de importe de transacciones por categoría de comercio\")\n",
    "def transactions_gold():\n",
    "    df = dlt.read_stream(\"transactions_silver\")\n",
    "    \n",
    "    total_amount_by_market = (\n",
    "        df.groupBy(\"merchantCategory\")\n",
    "        .agg(sum(\"amount\").alias(\"total_amount\"))\n",
    "        .withColumn(\"total_amount\", round(\"total_amount\", 2))\n",
    "    )\n",
    "\n",
    "    return total_amount_by_market"
   ]
  }
 ],
 "metadata": {
  "application/vnd.databricks.v1+notebook": {
   "computePreferences": null,
   "dashboards": [],
   "environmentMetadata": {
    "base_environment": "",
    "environment_version": "2"
   },
   "inputWidgetPreferences": null,
   "language": "python",
   "notebookMetadata": {
    "mostRecentlyExecutedCommandWithImplicitDF": {
     "commandId": -1,
     "dataframes": [
      "_sqldf"
     ]
    },
    "pythonIndentUnit": 4
   },
   "notebookName": "DLT Engine",
   "widgets": {
    "input_path": {
     "currentValue": "abfss://datalake@dlsmde01user.dfs.core.windows.net/bronze/",
     "nuid": "cac14164-a904-4824-80b6-931f56091104",
     "typedWidgetInfo": {
      "autoCreated": false,
      "defaultValue": "abfss://datalake@dlsmde01user.dfs.core.windows.net/bronze/",
      "label": "Input Path",
      "name": "input_path",
      "options": {
       "widgetDisplayType": "Text",
       "validationRegex": null
      },
      "parameterDataType": "String"
     },
     "widgetInfo": {
      "widgetType": "text",
      "defaultValue": "abfss://datalake@dlsmde01user.dfs.core.windows.net/bronze/",
      "label": "Input Path",
      "name": "input_path",
      "options": {
       "widgetType": "text",
       "autoCreated": null,
       "validationRegex": null
      }
     }
    }
   }
  },
  "language_info": {
   "name": "python"
  }
 },
 "nbformat": 4,
 "nbformat_minor": 0
}