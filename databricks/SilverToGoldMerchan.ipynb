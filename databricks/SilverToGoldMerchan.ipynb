{
 "cells": [
  {
   "cell_type": "markdown",
   "metadata": {
    "application/vnd.databricks.v1+cell": {
     "cellMetadata": {},
     "inputWidgets": {},
     "nuid": "5ecb245c-1615-48a4-8f4a-6a682fa220ef",
     "showTitle": false,
     "tableResultSettingsMap": {},
     "title": ""
    }
   },
   "source": [
    "## Widgets"
   ]
  },
  {
   "cell_type": "code",
   "execution_count": 0,
   "metadata": {
    "application/vnd.databricks.v1+cell": {
     "cellMetadata": {
      "byteLimit": 2048000,
      "rowLimit": 10000
     },
     "inputWidgets": {},
     "nuid": "c27acc65-7ab1-4941-998f-0fe53867c4e5",
     "showTitle": false,
     "tableResultSettingsMap": {},
     "title": ""
    }
   },
   "outputs": [],
   "source": [
    "# Crear un widget para el catálogo\n",
    "dbutils.widgets.text(\"catalog\", \"SUSTITUIR\")"
   ]
  },
  {
   "cell_type": "markdown",
   "metadata": {
    "application/vnd.databricks.v1+cell": {
     "cellMetadata": {},
     "inputWidgets": {},
     "nuid": "eb0e9d26-d6c8-4d84-9172-069011884ce5",
     "showTitle": false,
     "tableResultSettingsMap": {},
     "title": ""
    }
   },
   "source": [
    "## Cálculos en Gold\n",
    "Leer de la tabla h_transactions de Silver, hacer calculos y escribir amount_by_merchantCategory en Gold"
   ]
  },
  {
   "cell_type": "code",
   "execution_count": 0,
   "metadata": {
    "application/vnd.databricks.v1+cell": {
     "cellMetadata": {
      "byteLimit": 2048000,
      "rowLimit": 10000
     },
     "inputWidgets": {},
     "nuid": "7e11267d-b28a-4461-825b-c8397693d396",
     "showTitle": false,
     "tableResultSettingsMap": {},
     "title": ""
    }
   },
   "outputs": [],
   "source": [
    "from pyspark.sql.functions import round\n",
    "\n",
    "# Leer el catálogo del widget\n",
    "catalog = dbutils.widgets.get(\"catalog\")\n",
    "\n",
    "# Leer la tabla h_transactions desde el catálogo de Unity\n",
    "df = spark.read.table(f\"{catalog}.silver.h_transactions\")\n",
    "\n",
    "# Convertir el campo 'amount' a tipo numérico\n",
    "df = df.withColumn(\"amount\", df[\"amount\"].cast(\"double\"))\n",
    "\n",
    "# Calcular el importe total por merchantCategory\n",
    "total_amount_by_market = df.groupBy(\"merchantCategory\").sum(\"amount\").withColumnRenamed(\"sum(amount)\", \"total_amount\")\n",
    "total_amount_by_market = total_amount_by_market.withColumn(\"total_amount\", round(\"total_amount\", 2))\n",
    "\n",
    "# Crear el esquema si no existe\n",
    "spark.sql(\"CREATE SCHEMA IF NOT EXISTS gold\")\n",
    "\n",
    "# Guardar el resultado en la capa gold\n",
    "total_amount_by_market.write.mode(\"overwrite\").saveAsTable(f\"{catalog}.gold.amount_by_merchantCategory\")\n",
    "\n",
    "# Mostrar el resultado\n",
    "display(total_amount_by_market)"
   ]
  }
 ],
 "metadata": {
  "application/vnd.databricks.v1+notebook": {
   "computePreferences": null,
   "dashboards": [],
   "environmentMetadata": {
    "base_environment": "",
    "environment_version": "2"
   },
   "inputWidgetPreferences": null,
   "language": "python",
   "notebookMetadata": {
    "pythonIndentUnit": 4
   },
   "notebookName": "02. SilverToGoldMerchan",
   "widgets": {
    "catalog": {
     "currentValue": "SUSTITUIR",
     "nuid": "26e686dd-c95f-47fd-8144-17177816e072",
     "typedWidgetInfo": {
      "autoCreated": false,
      "defaultValue": "SUSTITUIR",
      "label": null,
      "name": "catalog",
      "options": {
       "widgetDisplayType": "Text",
       "validationRegex": null
      },
      "parameterDataType": "String"
     },
     "widgetInfo": {
      "widgetType": "text",
      "defaultValue": "SUSTITUIR",
      "label": null,
      "name": "catalog",
      "options": {
       "widgetType": "text",
       "autoCreated": null,
       "validationRegex": null
      }
     }
    }
   }
  },
  "language_info": {
   "name": "python"
  }
 },
 "nbformat": 4,
 "nbformat_minor": 0
}