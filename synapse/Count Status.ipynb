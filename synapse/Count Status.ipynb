{
  "cells": [
    {
      "cell_type": "code",
      "source": [
        "%%pyspark\r\n",
        "df = spark.read.load('abfss://datalake@dlstest0101albego.dfs.core.windows.net/bronze/transactions.csv', format='csv'\r\n",
        "## If header exists uncomment line below\r\n",
        ", header=True\r\n",
        ")\r\n",
        "#display(df.limit(10))\r\n",
        "\r\n",
        "df_counts = df.groupby(df.transactionStatus).count()\r\n",
        "display(df_counts)"
      ],
      "outputs": [
        {
          "output_type": "display_data",
          "data": {
            "application/vnd.livy.statement-meta+json": {
              "spark_pool": "sparkpool",
              "statement_id": 4,
              "statement_ids": [
                4
              ],
              "state": "finished",
              "livy_statement_state": "available",
              "spark_jobs": null,
              "session_id": "0",
              "normalized_state": "finished",
              "queued_time": "2025-04-04T07:40:16.2395038Z",
              "session_start_time": null,
              "execution_start_time": "2025-04-04T07:40:16.2406982Z",
              "execution_finish_time": "2025-04-04T07:40:20.2222812Z",
              "parent_msg_id": "9b3e1a08-165c-4f64-b866-3b5e62f3c9cb"
            },
            "text/plain": "StatementMeta(sparkpool, 0, 4, Finished, Available, Finished)"
          },
          "metadata": {}
        },
        {
          "output_type": "display_data",
          "data": {
            "application/vnd.synapse.widget-view+json": {
              "widget_id": "a658dee2-bf01-41df-9ac6-3b1d677cb023",
              "widget_type": "Synapse.DataFrame"
            },
            "text/plain": "SynapseWidget(Synapse.DataFrame, a658dee2-bf01-41df-9ac6-3b1d677cb023)"
          },
          "metadata": {}
        }
      ],
      "execution_count": 3,
      "metadata": {
        "microsoft": {
          "language": "python"
        },
        "collapsed": false
      }
    },
    {
      "cell_type": "code",
      "source": [],
      "outputs": [
        {
          "output_type": "display_data",
          "data": {
            "application/vnd.livy.statement-meta+json": {
              "spark_pool": "sparkpool",
              "statement_id": 3,
              "statement_ids": [
                3
              ],
              "state": "finished",
              "livy_statement_state": "available",
              "spark_jobs": null,
              "session_id": "0",
              "normalized_state": "finished",
              "queued_time": "2025-04-04T07:35:25.8235555Z",
              "session_start_time": null,
              "execution_start_time": "2025-04-04T07:39:51.6740938Z",
              "execution_finish_time": "2025-04-04T07:40:00.0457646Z",
              "parent_msg_id": "d87960d7-7b29-4062-8cd8-3d1ee317c30a"
            },
            "text/plain": "StatementMeta(sparkpool, 0, 3, Finished, Available, Finished)"
          },
          "metadata": {}
        },
        {
          "output_type": "display_data",
          "data": {
            "application/vnd.synapse.widget-view+json": {
              "widget_id": "4c167300-aaf3-4d8b-a486-9f94b1498f6d",
              "widget_type": "Synapse.DataFrame"
            },
            "text/plain": "SynapseWidget(Synapse.DataFrame, 4c167300-aaf3-4d8b-a486-9f94b1498f6d)"
          },
          "metadata": {}
        }
      ],
      "execution_count": 2,
      "metadata": {
        "collapsed": false
      }
    }
  ],
  "metadata": {
    "language_info": {
      "name": "python"
    },
    "kernelspec": {
      "name": "synapse_pyspark",
      "language": "Python",
      "display_name": "Synapse PySpark"
    },
    "kernel_info": {
      "name": "synapse_pyspark"
    },
    "save_output": true,
    "synapse_widget": {
      "version": "0.1",
      "state": {
        "4c167300-aaf3-4d8b-a486-9f94b1498f6d": {
          "type": "Synapse.DataFrame",
          "sync_state": {
            "table": {
              "rows": [
                {
                  "0": "completed",
                  "1": "70178"
                },
                {
                  "0": "failed",
                  "1": "9891"
                },
                {
                  "0": "pending",
                  "1": "19931"
                }
              ],
              "schema": [
                {
                  "key": "0",
                  "name": "transactionStatus",
                  "type": "string"
                },
                {
                  "key": "1",
                  "name": "count",
                  "type": "bigint"
                }
              ],
              "truncated": false
            },
            "isSummary": false,
            "language": "scala",
            "wranglerEntryContext": {
              "candidateVariableNames": [
                "df_counts"
              ],
              "dataframeType": "pyspark"
            }
          },
          "persist_state": {
            "view": {
              "type": "details",
              "tableOptions": {},
              "chartOptions": {
                "chartType": "bar",
                "aggregationType": "sum",
                "categoryFieldKeys": [
                  "0"
                ],
                "seriesFieldKeys": [
                  "1"
                ],
                "isStacked": false
              }
            }
          }
        },
        "a658dee2-bf01-41df-9ac6-3b1d677cb023": {
          "type": "Synapse.DataFrame",
          "sync_state": {
            "table": {
              "rows": [
                {
                  "0": "completed",
                  "1": "70178"
                },
                {
                  "0": "failed",
                  "1": "9891"
                },
                {
                  "0": "pending",
                  "1": "19931"
                }
              ],
              "schema": [
                {
                  "key": "0",
                  "name": "transactionStatus",
                  "type": "string"
                },
                {
                  "key": "1",
                  "name": "count",
                  "type": "bigint"
                }
              ],
              "truncated": false
            },
            "isSummary": false,
            "language": "scala",
            "wranglerEntryContext": {
              "candidateVariableNames": [
                "df_counts"
              ],
              "dataframeType": "pyspark"
            }
          },
          "persist_state": {
            "view": {
              "type": "details",
              "tableOptions": {},
              "chartOptions": {
                "chartType": "bar",
                "aggregationType": "sum",
                "categoryFieldKeys": [
                  "0"
                ],
                "seriesFieldKeys": [
                  "1"
                ],
                "isStacked": false
              }
            }
          }
        }
      }
    }
  },
  "nbformat": 4,
  "nbformat_minor": 2
}