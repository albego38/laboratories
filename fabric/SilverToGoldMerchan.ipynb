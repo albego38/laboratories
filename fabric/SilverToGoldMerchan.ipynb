{
    "cells": [
        {
            "cell_type": "markdown",
            "id": "a51c31ed-1140-49fa-b5e9-b2eb837a7939",
            "metadata": {
                "microsoft": {
                    "language": "python",
                    "language_group": "synapse_pyspark"
                },
                "nteract": {
                    "transient": {
                        "deleting": false
                    }
                }
            },
            "source": [
                "## Parametros"
            ]
        },
        {
            "cell_type": "code",
            "execution_count": null,
            "id": "f5be3e00-d0fb-425f-8bd3-64ce38453c23",
            "metadata": {
                "microsoft": {
                    "language": "python",
                    "language_group": "synapse_pyspark"
                },
                "tags": [
                    "parameters"
                ]
            },
            "outputs": [
            ],
            "source": [
                "LKH_MDE = \"LKH_MDE\""
            ]
        },
        {
            "cell_type": "markdown",
            "id": "2a69cb6d-f5ff-4828-b4d6-1ce9ccbd6329",
            "metadata": {
                "microsoft": {
                    "language": "python",
                    "language_group": "synapse_pyspark"
                },
                "nteract": {
                    "transient": {
                        "deleting": false
                    }
                }
            },
            "source": [
                "## Cálculos en Gold\n",
                "Leer de la tabla h_transactions de Silver, hacer calculos y escribir amount_by_merchantCategory en Gold"
            ]
        },
        {
            "cell_type": "code",
            "execution_count": null,
            "id": "c8b1e8ee-3abd-44b3-86d9-0bf8ad22ac54",
            "metadata": {
                "collapsed": false,
                "jupyter": {
                    "source_hidden": false
                },
                "microsoft": {
                    "language": "python",
                    "language_group": "synapse_pyspark"
                },
                "tags": [
                ]
            },
            "outputs": [
            ],
            "source": [
                "from pyspark.sql.functions import round, col\n",
                "\n",
                "# Leer los datos de la tabla 'transactions' desde el esquema \n",
                "df = spark.read.table(f\"{LKH_MDE}.silver.h_transactions\")\n",
                "\n",
                "# Convertir el campo 'amount' a tipo numérico (double)\n",
                "df = df.withColumn(\"amount\", df[\"amount\"].cast(\"double\"))\n",
                "\n",
                "# Calcular el importe total por merchantCategory\n",
                "total_amount_by_market = df.groupBy(\"merchantCategory\").sum(\"amount\").withColumnRenamed(\"sum(amount)\", \"total_amount\")\n",
                "\n",
                "# Redondear la columna 'total_amount' \n",
                "total_amount_by_market = total_amount_by_market.withColumn(\"total_amount\", round(col(\"total_amount\"), 2))\n",
                "\n",
                "# Crear el esquema 'gold' si no existe \n",
                "spark.sql(\"CREATE SCHEMA IF NOT EXISTS gold\")\n",
                "\n",
                "# Guardar el resultado en la capa 'gold'\n",
                "total_amount_by_market.write.mode(\"overwrite\").saveAsTable(\"gold.amount_by_merchantCategory_v1\")\n",
                "\n",
                "# Mostrar el resultado\n",
                "total_amount_by_market.show()"
            ]
        }
    ],
    "metadata": {
        "kernel_info": {
            "name": "synapse_pyspark"
        },
        "kernelspec": {
            "display_name": "Synapse PySpark",
            "language": "Python",
            "name": "synapse_pyspark"
        },
        "language_info": {
            "name": "python"
        },
        "microsoft": {
            "language": "python",
            "language_group": "synapse_pyspark",
            "ms_spell_check": {
                "ms_spell_check_language": "es"
            }
        },
        "nteract": {
            "version": "nteract-front-end@1.0.0"
        },
        "spark_compute": {
            "compute_id": "/trident/default",
            "session_options": {
                "conf": {
                    "spark.synapse.nbs.session.timeout": "1200000"
                }
            }
        },
        "synapse_widget": {
            "state": {
            },
            "version": "0.1"
        }
    },
    "nbformat": 4,
    "nbformat_minor": 5
}
